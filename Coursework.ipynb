{
 "cells": [
  {
   "cell_type": "code",
   "execution_count": 17,
   "metadata": {
    "collapsed": false,
    "deletable": true,
    "editable": true
   },
   "outputs": [
    {
     "data": {
      "text/plain": [
       "[Row(VendorID=2, tpep_pickup_datetime=datetime.datetime(2016, 1, 1, 0, 0), tpep_dropoff_datetime=datetime.datetime(2016, 1, 1, 0, 0), passenger_count=2, trip_distance=1.1, pickup_longitude=-73.99037170410156, pickup_latitude=40.73469543457031, RatecodeID=1, store_and_fwd_flag=u'N', dropoff_longitude=-73.98184204101562, dropoff_latitude=40.73240661621094, payment_type=2, fare_amount=7.5, extra=0.5, mta_tax=0.5, tip_amount=0.0, tolls_amount=0, improvement_surcharge=0.3, total_amount=8.8),\n",
       " Row(VendorID=2, tpep_pickup_datetime=datetime.datetime(2016, 1, 1, 0, 0, 3), tpep_dropoff_datetime=datetime.datetime(2016, 1, 1, 0, 15, 49), passenger_count=6, trip_distance=2.43, pickup_longitude=-73.96932983398438, pickup_latitude=40.7635383605957, RatecodeID=1, store_and_fwd_flag=u'N', dropoff_longitude=-73.99568939208984, dropoff_latitude=40.7442512512207, payment_type=3, fare_amount=0.0, extra=0.5, mta_tax=0.5, tip_amount=3.99, tolls_amount=0, improvement_surcharge=0.3, total_amount=17.29)]"
      ]
     },
     "execution_count": 17,
     "metadata": {},
     "output_type": "execute_result"
    }
   ],
   "source": [
    "from pyspark.sql import SQLContext\n",
    "from dateutil.parser import parse\n",
    "from datetime import datetime\n",
    "\n",
    "def date_and_hour_and_minute(s):\n",
    "    dt = parse(s.replace('?',' '))\n",
    "    hour = dt.hour\n",
    "    minute = dt.minute\n",
    "    return (dt.strftime(\"%Y-%m-%d\"),hour, minute)\n",
    "\n",
    "def check_empty_column(row):\n",
    "    for column in row:\n",
    "        if column == None:\n",
    "            return False\n",
    "    return True\n",
    "\n",
    "sqlContext = SQLContext(sc)\n",
    "df = sqlContext.read.format('com.databricks.spark.csv').options(header='true',inferschema='true').load('file:///home/oxclo/BigDataAndCloudComputing/test_bad_data.csv')\n",
    "yellowcabdata = df.rdd\n",
    "\n",
    "filteremptycolumn = yellowcabdata.filter(lambda x: check_empty_column(x))\n",
    "filterzerolatitudelongitude = filteremptycolumn.filter(lambda x: x.pickup_longitude != 0.0 and bool(x.pickup_longitude) and x.pickup_latitude != 0.0 and bool(x.pickup_latitude) and x.dropoff_longitude != 0.0 and bool(x.dropoff_longitude) and x.dropoff_latitude != 0.0 and bool(x.dropoff_latitude))\n",
    "filterwrongtime = filterzerolatitudelongitude.filter(lambda x: x.tpep_pickup_datetime <= x.tpep_dropoff_datetime)\n",
    "filterinvaliddistance = filterwrongtime.filter(lambda x: x.trip_distance > 0 or x.payment_type == 6)\n",
    "filterinvalidfareamount = filterinvaliddistance.filter(lambda x: x.fare_amount > 0 or x.payment_type == 6 or x.payment_type == 3)\n",
    "filterinvalidfareamount.take(14)\n",
    "#mapped = filteremptycolumn.map(lambda x: (x.tpep_pickup_datetime, x.tpep_dropoff_datetime, x.trip_distance, x.pickup_longitude, x.pickup_latitude, x.dropoff_longitude, x.dropoff_latitude))\n",
    "#mapped.take(14)\n",
    "#mapped = winddata.map(lambda x: (x.Station_ID, date_and_hour(x.Interval_End_Time),x.Wind_Velocity_Mtr_Sec, x.Ambient_Temperature_Deg_C))\n",
    "#filtered = mapped.filter(lambda (a,b,c,d): c != 0.0 and d != 0.0 and bool(c) and bool(d))\n",
    "#combinedstationdatetime = filtered.map(lambda (s,(d,h),v,t): ((s,d,h),(v,t)))\n",
    "#keyvalueone = combinedstationdatetime.map(lambda (station_date_hour,(v,t)): (station_date_hour,(v,t,1)))\n",
    "#sumdata = keyvalueone.reduceByKey(lambda (v1,t1,c1),(v2,t2,c2):(v1+v2,t1+t2,c1+c2))\n",
    "#averagedata = sumdata.map(lambda((s,d,h),(v,t,c)):((s,d,h),v/c,t/c))"
   ]
  },
  {
   "cell_type": "code",
   "execution_count": null,
   "metadata": {
    "collapsed": true,
    "deletable": true,
    "editable": true
   },
   "outputs": [],
   "source": []
  },
  {
   "cell_type": "code",
   "execution_count": null,
   "metadata": {
    "collapsed": true,
    "deletable": true,
    "editable": true
   },
   "outputs": [],
   "source": []
  },
  {
   "cell_type": "code",
   "execution_count": null,
   "metadata": {
    "collapsed": true,
    "deletable": true,
    "editable": true
   },
   "outputs": [],
   "source": []
  },
  {
   "cell_type": "code",
   "execution_count": null,
   "metadata": {
    "collapsed": true,
    "deletable": true,
    "editable": true
   },
   "outputs": [],
   "source": []
  },
  {
   "cell_type": "code",
   "execution_count": null,
   "metadata": {
    "collapsed": true
   },
   "outputs": [],
   "source": []
  }
 ],
 "metadata": {
  "kernelspec": {
   "display_name": "Python 2",
   "language": "python",
   "name": "python2"
  },
  "language_info": {
   "codemirror_mode": {
    "name": "ipython",
    "version": 2
   },
   "file_extension": ".py",
   "mimetype": "text/x-python",
   "name": "python",
   "nbconvert_exporter": "python",
   "pygments_lexer": "ipython2",
   "version": "2.7.12"
  }
 },
 "nbformat": 4,
 "nbformat_minor": 2
}
