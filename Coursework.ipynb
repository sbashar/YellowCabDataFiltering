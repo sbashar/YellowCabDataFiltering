{
 "cells": [
  {
   "cell_type": "code",
   "execution_count": 7,
   "metadata": {
    "collapsed": false,
    "deletable": true,
    "editable": true
   },
   "outputs": [
    {
     "data": {
      "text/plain": [
       "[Row(VendorID=2, tpep_pickup_datetime=u'01/01/2016 00:00', tpep_dropoff_datetime=u'01/01/2016 00:00', passenger_count=2, trip_distance=1.1, pickup_longitude=-73.9903717, pickup_latitude=40.73469543, RatecodeID=1, store_and_fwd_flag=u'N', dropoff_longitude=-73.98184204, dropoff_latitude=40.73240662, payment_type=2, fare_amount=7.5, extra=0.5, mta_tax=0.5, tip_amount=0.0, tolls_amount=0, improvement_surcharge=0.3, total_amount=8.8),\n",
       " Row(VendorID=2, tpep_pickup_datetime=u'01/01/2016 00:00', tpep_dropoff_datetime=u'01/01/2016 00:00', passenger_count=1, trip_distance=10.54, pickup_longitude=0.0, pickup_latitude=40.67956543, RatecodeID=1, store_and_fwd_flag=u'N', dropoff_longitude=-73.95027161, dropoff_latitude=40.78892517, payment_type=1, fare_amount=33.0, extra=0.5, mta_tax=0.5, tip_amount=0.0, tolls_amount=0, improvement_surcharge=0.3, total_amount=34.3),\n",
       " Row(VendorID=2, tpep_pickup_datetime=u'01/01/2016 00:00', tpep_dropoff_datetime=u'01/01/2016 00:00', passenger_count=1, trip_distance=4.75, pickup_longitude=-73.99346924, pickup_latitude=0.0, RatecodeID=1, store_and_fwd_flag=u'N', dropoff_longitude=-73.96224213, dropoff_latitude=40.65733337, payment_type=2, fare_amount=16.5, extra=0.0, mta_tax=0.5, tip_amount=0.0, tolls_amount=0, improvement_surcharge=0.3, total_amount=17.3),\n",
       " Row(VendorID=2, tpep_pickup_datetime=u'01/01/2016 00:00', tpep_dropoff_datetime=u'01/01/2016 00:00', passenger_count=3, trip_distance=1.76, pickup_longitude=-73.96062469, pickup_latitude=40.78133011, RatecodeID=1, store_and_fwd_flag=u'N', dropoff_longitude=0.0, dropoff_latitude=40.7585144, payment_type=2, fare_amount=8.0, extra=0.0, mta_tax=0.5, tip_amount=0.0, tolls_amount=0, improvement_surcharge=0.3, total_amount=8.8),\n",
       " Row(VendorID=2, tpep_pickup_datetime=u'01/01/2016 00:00', tpep_dropoff_datetime=u'01/01/2016 00:18', passenger_count=2, trip_distance=5.52, pickup_longitude=-73.9801178, pickup_latitude=40.74304962, RatecodeID=1, store_and_fwd_flag=u'N', dropoff_longitude=-73.9134903, dropoff_latitude=0.0, payment_type=2, fare_amount=19.0, extra=0.5, mta_tax=0.5, tip_amount=0.0, tolls_amount=0, improvement_surcharge=0.3, total_amount=20.3),\n",
       " Row(VendorID=2, tpep_pickup_datetime=u'01/02/2016 00:00', tpep_dropoff_datetime=u'01/01/2016 00:26', passenger_count=2, trip_distance=7.45, pickup_longitude=-73.9940567, pickup_latitude=40.71998978, RatecodeID=1, store_and_fwd_flag=u'N', dropoff_longitude=-73.966362, dropoff_latitude=40.78987122, payment_type=2, fare_amount=26.0, extra=0.5, mta_tax=0.5, tip_amount=0.0, tolls_amount=0, improvement_surcharge=0.3, total_amount=27.3),\n",
       " Row(VendorID=1, tpep_pickup_datetime=u'01/01/2016 00:00', tpep_dropoff_datetime=u'01/01/2016 00:11', passenger_count=1, trip_distance=0.0, pickup_longitude=-73.97942352, pickup_latitude=40.74461365, RatecodeID=1, store_and_fwd_flag=u'N', dropoff_longitude=-73.99203491, dropoff_latitude=40.7539444, payment_type=2, fare_amount=9.0, extra=0.5, mta_tax=0.5, tip_amount=0.0, tolls_amount=0, improvement_surcharge=0.3, total_amount=10.3),\n",
       " Row(VendorID=1, tpep_pickup_datetime=u'01/01/2016 00:00', tpep_dropoff_datetime=u'01/01/2016 00:11', passenger_count=1, trip_distance=-1.0, pickup_longitude=-73.94715118, pickup_latitude=40.79104614, RatecodeID=1, store_and_fwd_flag=u'N', dropoff_longitude=-73.92076874, dropoff_latitude=40.8655777, payment_type=2, fare_amount=18.0, extra=0.5, mta_tax=0.5, tip_amount=0.0, tolls_amount=0, improvement_surcharge=0.3, total_amount=19.3),\n",
       " Row(VendorID=2, tpep_pickup_datetime=u'01/01/2016 00:00', tpep_dropoff_datetime=u'01/01/2016 00:11', passenger_count=1, trip_distance=3.21, pickup_longitude=-73.99834442, pickup_latitude=40.72389603, RatecodeID=1, store_and_fwd_flag=u'N', dropoff_longitude=-73.99584961, dropoff_latitude=40.68840027, payment_type=2, fare_amount=0.0, extra=0.5, mta_tax=0.5, tip_amount=0.0, tolls_amount=0, improvement_surcharge=0.3, total_amount=12.8),\n",
       " Row(VendorID=2, tpep_pickup_datetime=u'01/01/2016 00:00', tpep_dropoff_datetime=u'01/01/2016 00:06', passenger_count=1, trip_distance=0.79, pickup_longitude=-74.00614929, pickup_latitude=40.74491882, RatecodeID=1, store_and_fwd_flag=u'N', dropoff_longitude=-73.9937973, dropoff_latitude=40.74143982, payment_type=2, fare_amount=-1.0, extra=0.5, mta_tax=0.5, tip_amount=0.0, tolls_amount=0, improvement_surcharge=0.3, total_amount=7.3),\n",
       " Row(VendorID=2, tpep_pickup_datetime=u'01/01/2016 00:00', tpep_dropoff_datetime=u'01/01/2016 00:15', passenger_count=6, trip_distance=2.43, pickup_longitude=-73.96932983, pickup_latitude=40.76353836, RatecodeID=1, store_and_fwd_flag=u'N', dropoff_longitude=-73.99568939, dropoff_latitude=40.74425125, payment_type=3, fare_amount=0.0, extra=0.5, mta_tax=0.5, tip_amount=3.99, tolls_amount=0, improvement_surcharge=0.3, total_amount=17.29)]"
      ]
     },
     "execution_count": 7,
     "metadata": {},
     "output_type": "execute_result"
    }
   ],
   "source": [
    "from pyspark.sql import SQLContext\n",
    "from dateutil.parser import parse\n",
    "from datetime import datetime\n",
    "\n",
    "def date_and_hour_and_minute(s):\n",
    "    dt = parse(s.replace('?',' '))\n",
    "    hour = dt.hour\n",
    "    minute = dt.minute\n",
    "    return (dt.strftime(\"%Y-%m-%d\"),hour, minute)\n",
    "\n",
    "def check_empty_column(row):\n",
    "    for column in row:\n",
    "        if column == None:\n",
    "            return False\n",
    "    return True\n",
    "\n",
    "sqlContext = SQLContext(sc)\n",
    "df = sqlContext.read.format('com.databricks.spark.csv').options(header='true',inferschema='true').load('file:///home/oxclo/BigDataAndCloudComputing/test_bad_data.csv')\n",
    "yellowcabdata = df.rdd\n",
    "\n",
    "filteremptycolumn = yellowcabdata.filter(lambda x: check_empty_column(x))\n",
    "filteremptycolumn.take(14)\n",
    "\n",
    "#mapped = yellowcabdata.map(lambda x: (x.tpep_pickup_datetime, x.tpep_dropoff_datetime, x.trip_distance, x.pickup_longitude, x.))\n",
    "#mapped.take(1)\n",
    "#mapped = winddata.map(lambda x: (x.Station_ID, date_and_hour(x.Interval_End_Time),x.Wind_Velocity_Mtr_Sec, x.Ambient_Temperature_Deg_C))\n",
    "#filtered = mapped.filter(lambda (a,b,c,d): c != 0.0 and d != 0.0 and bool(c) and bool(d))\n",
    "#combinedstationdatetime = filtered.map(lambda (s,(d,h),v,t): ((s,d,h),(v,t)))\n",
    "#keyvalueone = combinedstationdatetime.map(lambda (station_date_hour,(v,t)): (station_date_hour,(v,t,1)))\n",
    "#sumdata = keyvalueone.reduceByKey(lambda (v1,t1,c1),(v2,t2,c2):(v1+v2,t1+t2,c1+c2))\n",
    "#averagedata = sumdata.map(lambda((s,d,h),(v,t,c)):((s,d,h),v/c,t/c))"
   ]
  },
  {
   "cell_type": "code",
   "execution_count": null,
   "metadata": {
    "collapsed": true,
    "deletable": true,
    "editable": true
   },
   "outputs": [],
   "source": []
  },
  {
   "cell_type": "code",
   "execution_count": null,
   "metadata": {
    "collapsed": true,
    "deletable": true,
    "editable": true
   },
   "outputs": [],
   "source": []
  },
  {
   "cell_type": "code",
   "execution_count": null,
   "metadata": {
    "collapsed": true,
    "deletable": true,
    "editable": true
   },
   "outputs": [],
   "source": []
  },
  {
   "cell_type": "code",
   "execution_count": null,
   "metadata": {
    "collapsed": true,
    "deletable": true,
    "editable": true
   },
   "outputs": [],
   "source": []
  }
 ],
 "metadata": {
  "kernelspec": {
   "display_name": "Python 2",
   "language": "python",
   "name": "python2"
  },
  "language_info": {
   "codemirror_mode": {
    "name": "ipython",
    "version": 2
   },
   "file_extension": ".py",
   "mimetype": "text/x-python",
   "name": "python",
   "nbconvert_exporter": "python",
   "pygments_lexer": "ipython2",
   "version": "2.7.12"
  }
 },
 "nbformat": 4,
 "nbformat_minor": 2
}
