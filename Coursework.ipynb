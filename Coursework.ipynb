{
 "cells": [
  {
   "cell_type": "code",
   "execution_count": 8,
   "metadata": {
    "collapsed": false,
    "deletable": true,
    "editable": true
   },
   "outputs": [],
   "source": [
    "from pyspark.sql import SQLContext\n",
    "from dateutil.parser import parse\n",
    "from datetime import datetime\n",
    "\n",
    "def date_and_hour_and_minute(s):\n",
    "    dt = parse(s.replace('?',' '))\n",
    "    hour = dt.hour\n",
    "    minute = dt.minute\n",
    "    return (dt.strftime(\"%Y-%m-%d\"),hour, minute)\n",
    "\n",
    "def check_empty_column(row):\n",
    "    for column in row:\n",
    "        if column == None:\n",
    "            return False\n",
    "    return True\n",
    "\n",
    "sqlContext = SQLContext(sc)\n",
    "df = sqlContext.read.format('com.databricks.spark.csv').options(header='true',inferschema='true').load('file:///home/oxclo/BigDataAndCloudComputing/test_bad_data.csv')\n",
    "yellowcabdata = df.rdd\n",
    "\n",
    "filteremptycolumn = yellowcabdata.filter(lambda x: check_empty_column(x))\n",
    "\n",
    "#mapped = filteremptycolumn.map(lambda x: (x.tpep_pickup_datetime, x.tpep_dropoff_datetime, x.trip_distance, x.pickup_longitude, x.pickup_latitude, x.dropoff_longitude, x.dropoff_latitude))\n",
    "#mapped.take(14)\n",
    "#mapped = winddata.map(lambda x: (x.Station_ID, date_and_hour(x.Interval_End_Time),x.Wind_Velocity_Mtr_Sec, x.Ambient_Temperature_Deg_C))\n",
    "#filtered = mapped.filter(lambda (a,b,c,d): c != 0.0 and d != 0.0 and bool(c) and bool(d))\n",
    "#combinedstationdatetime = filtered.map(lambda (s,(d,h),v,t): ((s,d,h),(v,t)))\n",
    "#keyvalueone = combinedstationdatetime.map(lambda (station_date_hour,(v,t)): (station_date_hour,(v,t,1)))\n",
    "#sumdata = keyvalueone.reduceByKey(lambda (v1,t1,c1),(v2,t2,c2):(v1+v2,t1+t2,c1+c2))\n",
    "#averagedata = sumdata.map(lambda((s,d,h),(v,t,c)):((s,d,h),v/c,t/c))"
   ]
  },
  {
   "cell_type": "code",
   "execution_count": null,
   "metadata": {
    "collapsed": true,
    "deletable": true,
    "editable": true
   },
   "outputs": [],
   "source": []
  },
  {
   "cell_type": "code",
   "execution_count": null,
   "metadata": {
    "collapsed": true,
    "deletable": true,
    "editable": true
   },
   "outputs": [],
   "source": []
  },
  {
   "cell_type": "code",
   "execution_count": null,
   "metadata": {
    "collapsed": true,
    "deletable": true,
    "editable": true
   },
   "outputs": [],
   "source": []
  },
  {
   "cell_type": "code",
   "execution_count": null,
   "metadata": {
    "collapsed": true,
    "deletable": true,
    "editable": true
   },
   "outputs": [],
   "source": []
  },
  {
   "cell_type": "code",
   "execution_count": null,
   "metadata": {
    "collapsed": true
   },
   "outputs": [],
   "source": []
  }
 ],
 "metadata": {
  "kernelspec": {
   "display_name": "Python 2",
   "language": "python",
   "name": "python2"
  },
  "language_info": {
   "codemirror_mode": {
    "name": "ipython",
    "version": 2
   },
   "file_extension": ".py",
   "mimetype": "text/x-python",
   "name": "python",
   "nbconvert_exporter": "python",
   "pygments_lexer": "ipython2",
   "version": "2.7.12"
  }
 },
 "nbformat": 4,
 "nbformat_minor": 2
}
